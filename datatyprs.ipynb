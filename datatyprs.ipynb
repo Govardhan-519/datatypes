{
 "cells": [
  {
   "cell_type": "markdown",
   "id": "0608a160-d550-4d7b-b993-8b16f973fa8b",
   "metadata": {},
   "source": [
    "# what is data types\n",
    "- Python Data types are the classification or categorization of data items. \n",
    "- It represents the kind of value that tells what operations can be performed on a particular data.\n",
    "- there are different types of data types and they are classified as follows:\n",
    "## Basic\n",
    "   - int\n",
    "   - float\n",
    "   - complex\n",
    "   - bool\n",
    "   - char\n",
    "## Advance\n",
    "   - list\n",
    "   - str\n",
    "   - tuple\n",
    "   - dict\n",
    "   - set\n",
    "   "
   ]
  },
  {
   "cell_type": "markdown",
   "id": "aede32f5-f329-42f3-8631-5e6d0f413b10",
   "metadata": {},
   "source": [
    "## Explain int with examples\n",
    "- This value is represented by int class. It contains positive or negative whole numbers (without fractions or decimals). \n",
    "- In Python, there is no limit to how long an integer value can be."
   ]
  },
  {
   "cell_type": "code",
   "execution_count": 32,
   "id": "68cc3843-2827-4101-87e8-1413097833b0",
   "metadata": {},
   "outputs": [
    {
     "name": "stdout",
     "output_type": "stream",
     "text": [
      "1\n",
      "2\n",
      "3\n",
      "4\n",
      "5\n",
      "-1\n",
      "-2\n",
      "-3\n",
      "-4\n",
      "-5\n"
     ]
    }
   ],
   "source": [
    "a=1\n",
    "b=2\n",
    "c=3\n",
    "d=4\n",
    "e=5\n",
    "f=-1\n",
    "g=-2\n",
    "h=-3\n",
    "i=-4\n",
    "j=-5\n",
    "print(a)\n",
    "print(b)\n",
    "print(c)\n",
    "print(d)\n",
    "print(e)\n",
    "print(f)\n",
    "print(g)\n",
    "print(h)\n",
    "print(i)\n",
    "print(j)\n"
   ]
  },
  {
   "cell_type": "markdown",
   "id": "b4e55dcc-e60e-4892-b8ed-b921d0a5347d",
   "metadata": {},
   "source": [
    "### Explain float with examples\n",
    "- This value is represented by the float class. It is a real number with a floating-point representation. It is specified by a decimal point.\n",
    "- Optionally, the character e or E followed by a positive or negative integer may be appended to specify scientific notation."
   ]
  },
  {
   "cell_type": "code",
   "execution_count": 24,
   "id": "68b24533-9cd3-4773-9a8a-b416be14e6a7",
   "metadata": {},
   "outputs": [
    {
     "name": "stdout",
     "output_type": "stream",
     "text": [
      "1.2\n",
      "2.3\n",
      "3.4\n",
      "4.5\n",
      "5.6\n",
      "-1.2\n",
      "-2.3\n",
      "-3.4\n",
      "-4.5\n",
      "-5.6\n"
     ]
    }
   ],
   "source": [
    "a11=1.2\n",
    "b12=2.3\n",
    "c13=3.4\n",
    "d14=4.5\n",
    "e15=5.6\n",
    "f16=-1.2\n",
    "g17=-2.3\n",
    "h18=-3.4\n",
    "i19=-4.5\n",
    "j10=-5.6\n",
    "print(a11)\n",
    "print(b12)\n",
    "print(c13)\n",
    "print(d14)\n",
    "print(e15)\n",
    "print(f16)\n",
    "print(g17)\n",
    "print(h18)\n",
    "print(i19)\n",
    "print(j10)"
   ]
  },
  {
   "cell_type": "markdown",
   "id": "0e6a79e3-58be-41b0-a656-5402ee1045d2",
   "metadata": {},
   "source": [
    "#### Explain complex with examples\n",
    "- A complex number is represented by a complex class. It is specified as (real part) + (imaginary part)j .\n",
    "- For example – 2+3j"
   ]
  },
  {
   "cell_type": "code",
   "execution_count": 21,
   "id": "979341ea-718e-4f09-b605-91fe75929db8",
   "metadata": {},
   "outputs": [
    {
     "name": "stdout",
     "output_type": "stream",
     "text": [
      "(1+2j)\n",
      "(2-3j)\n",
      "(-3+4j)\n",
      "(-4+5j)\n",
      "(-0-11j)\n",
      "(7+6j)\n",
      "(8-7j)\n",
      "56j\n",
      "17j\n",
      "90j\n"
     ]
    }
   ],
   "source": [
    "a1=1+2j\n",
    "b2=2-3j\n",
    "c3=-3+4j\n",
    "d4=-4+5j\n",
    "e5=-5j-6j\n",
    "f1=6j+7\n",
    "g2=-7j+8\n",
    "h3=7*8j\n",
    "i4=8j+9j\n",
    "j5=9j*10\n",
    "print(a1)\n",
    "print(b2)\n",
    "print(c3)\n",
    "print(d4)\n",
    "print(e5)\n",
    "print(f1)\n",
    "print(g2)\n",
    "print(h3)\n",
    "print(i4)\n",
    "print(j5)\n"
   ]
  },
  {
   "cell_type": "markdown",
   "id": "59cfbbe1-0364-4b5a-a25e-295b3ee61de3",
   "metadata": {},
   "source": [
    "##### Explain bool with examples\n",
    "- Python Data type with one of the two built-in values, True or False.\n",
    "- Boolean objects that are equal to True are truthy (true), and those equal to False are falsy (false)."
   ]
  },
  {
   "cell_type": "code",
   "execution_count": 28,
   "id": "6e54ef61-dcd1-4770-aa3d-0698ef95aa51",
   "metadata": {},
   "outputs": [
    {
     "name": "stdout",
     "output_type": "stream",
     "text": [
      "False\n",
      "False\n",
      "True\n",
      "True\n",
      "False\n"
     ]
    }
   ],
   "source": [
    "a=10\n",
    "b=20\n",
    "c=30\n",
    "d=40\n",
    "e=50\n",
    "print(a>b)\n",
    "print(b>c)\n",
    "print(c<d)\n",
    "print(d<e)\n",
    "print(e==f)"
   ]
  },
  {
   "cell_type": "markdown",
   "id": "f138db4e-b593-4afb-af20-047ebba1094c",
   "metadata": {},
   "source": [
    "###### Explain type() with examples\n",
    "- The type() function in Python is a built-in function that returns the type of data stored in a variable or object. "
   ]
  },
  {
   "cell_type": "code",
   "execution_count": 30,
   "id": "db3b9925-3677-4937-b46b-5c92d0f01c20",
   "metadata": {},
   "outputs": [
    {
     "name": "stdout",
     "output_type": "stream",
     "text": [
      "<class 'int'>\n",
      "<class 'int'>\n",
      "<class 'complex'>\n",
      "<class 'complex'>\n",
      "<class 'float'>\n",
      "<class 'float'>\n",
      "<class 'float'>\n",
      "<class 'float'>\n",
      "<class 'float'>\n",
      "<class 'complex'>\n"
     ]
    }
   ],
   "source": [
    "print(type(a))\n",
    "print(type(b))\n",
    "print(type(c3))\n",
    "print(type(d4))\n",
    "print(type(e15))\n",
    "print(type(f16))\n",
    "print(type(g17))\n",
    "print(type(h))\n",
    "print(type(i19))\n",
    "print(type(j))"
   ]
  },
  {
   "cell_type": "code",
   "execution_count": null,
   "id": "ca1b43dd-9624-4250-9426-f6682e82c3ab",
   "metadata": {},
   "outputs": [],
   "source": []
  }
 ],
 "metadata": {
  "kernelspec": {
   "display_name": "Python 3 (ipykernel)",
   "language": "python",
   "name": "python3"
  },
  "language_info": {
   "codemirror_mode": {
    "name": "ipython",
    "version": 3
   },
   "file_extension": ".py",
   "mimetype": "text/x-python",
   "name": "python",
   "nbconvert_exporter": "python",
   "pygments_lexer": "ipython3",
   "version": "3.12.7"
  }
 },
 "nbformat": 4,
 "nbformat_minor": 5
}
